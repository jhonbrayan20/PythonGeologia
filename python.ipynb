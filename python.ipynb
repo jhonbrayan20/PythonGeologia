{
 "cells": [
  {
   "cell_type": "code",
   "execution_count": 1,
   "metadata": {},
   "outputs": [
    {
     "name": "stdout",
     "output_type": "stream",
     "text": [
      "Hola mundo\n"
     ]
    }
   ],
   "source": [
    "print(\"Hola mundo\")"
   ]
  },
  {
   "cell_type": "code",
   "execution_count": 31,
   "metadata": {},
   "outputs": [
    {
     "data": {
      "text/plain": [
       "1000000"
      ]
     },
     "execution_count": 31,
     "metadata": {},
     "output_type": "execute_result"
    }
   ],
   "source": [
    "1000*1000"
   ]
  },
  {
   "cell_type": "code",
   "execution_count": 34,
   "metadata": {},
   "outputs": [
    {
     "name": "stdout",
     "output_type": "stream",
     "text": [
      "por favor responda de manera adecuada\n"
     ]
    }
   ],
   "source": [
    "consulta=input(str(\"tiene usted 18 años?(si/no):\")).strip().lower()\n",
    "if consulta==\"si\":\n",
    "    print(\"usted si puede beber bebidas alcoholicas\")\n",
    "\n",
    "elif consulta==\"no\":\n",
    "    print(\"usted es menor de edad no puede beber bebidas alcoholicas.gracias\")\n",
    "else:\n",
    "    print(\"por favor responda de manera adecuada\");\n",
    "\n",
    "\n"
   ]
  },
  {
   "cell_type": "code",
   "execution_count": 52,
   "metadata": {},
   "outputs": [
    {
     "name": "stdout",
     "output_type": "stream",
     "text": [
      "puede ser otro mineral, en estos momentos estamos en momento de desarrollo.gracias\n"
     ]
    }
   ],
   "source": [
    "# identificacion de minerales \n",
    "dureza=int(input((\"por favor ingrese su dureza: \")))\n",
    "color=str(input((\"por favor ingrese su color: \")))\n",
    "if (dureza==7) and (color==\"transparente\"):\n",
    "    print(\"su mineral es posiblemente Cuarzo\")\n",
    "elif (dureza==3) and ((color==\"blanco\")or(color==\"verde\")):\n",
    "    print (\"su mineral es posiblemente en general parte de calcita\")\n",
    "else:\n",
    "    print(\"puede ser otro mineral, en estos momentos estamos en momento de desarrollo.gracias\")\n"
   ]
  },
  {
   "cell_type": "code",
   "execution_count": 63,
   "metadata": {},
   "outputs": [
    {
     "name": "stdout",
     "output_type": "stream",
     "text": [
      "['muscovita', 'cuarzo', 'calcita', 'magnetita', 'fluorita']\n"
     ]
    }
   ],
   "source": [
    "# arrays \n",
    "\n",
    "minerales=[\"muscovita\",\"cuarzo\",\"calcita\",\"magnetita\"]\n",
    "agregarMineral=str(input(\"por favor introdusca su mineral en la lista seguidos de comas: \"))\n",
    "def addMineral(agregarMineral):\n",
    " minerales.append([agregarMineral])\n",
    " return minerales\n",
    "print(addMineral(agregarMineral))\n"
   ]
  },
  {
   "cell_type": "code",
   "execution_count": 80,
   "metadata": {},
   "outputs": [
    {
     "name": "stdout",
     "output_type": "stream",
     "text": [
      "{'clorita', 'hematita', 'cuarzo'}\n",
      "Juan 23\n"
     ]
    }
   ],
   "source": [
    "#conjuntos\n",
    "minerales=set([\"cuarzo\",\"cuarzo\",\"clorita\",\"hematita\",\"hematita\"])\n",
    "print(minerales)\n",
    "# dicionarios\n",
    "usuarios={\n",
    "    \"nombre\":\"Juan\",\n",
    "    \"edad\":23,\n",
    "}\n",
    "print(usuarios[\"nombre\"],usuarios[\"edad\"])\n",
    "\n"
   ]
  },
  {
   "cell_type": "code",
   "execution_count": 100,
   "metadata": {},
   "outputs": [
    {
     "name": "stdout",
     "output_type": "stream",
     "text": [
      "2\n",
      "4\n",
      "6\n",
      "8\n"
     ]
    }
   ],
   "source": [
    "#numeros pares del 1 al 10\n",
    "for e in range(1,10):\n",
    "    if(e%2==0):\n",
    "        print(e)\n",
    "\n",
    "    "
   ]
  },
  {
   "cell_type": "code",
   "execution_count": 111,
   "metadata": {},
   "outputs": [
    {
     "name": "stdout",
     "output_type": "stream",
     "text": [
      "1:granito\n",
      "2:monzonita\n",
      "3:diorita\n"
     ]
    }
   ],
   "source": [
    "# gradiente geotermico\n",
    "muestras=[\"granito\",\"monzonita\",\"diorita\"]\n",
    "for i,muestra in enumerate(muestras):\n",
    "    i=i+1\n",
    "    print(f\"{i}:{muestra}\")\n",
    "\n",
    "\n"
   ]
  },
  {
   "cell_type": "code",
   "execution_count": 105,
   "metadata": {},
   "outputs": [
    {
     "data": {
      "text/html": [
       "<div>\n",
       "<style scoped>\n",
       "    .dataframe tbody tr th:only-of-type {\n",
       "        vertical-align: middle;\n",
       "    }\n",
       "\n",
       "    .dataframe tbody tr th {\n",
       "        vertical-align: top;\n",
       "    }\n",
       "\n",
       "    .dataframe thead th {\n",
       "        text-align: right;\n",
       "    }\n",
       "</style>\n",
       "<table border=\"1\" class=\"dataframe\">\n",
       "  <thead>\n",
       "    <tr style=\"text-align: right;\">\n",
       "      <th></th>\n",
       "      <th>Profundidad</th>\n",
       "      <th>Densidad Aparente</th>\n",
       "      <th>Gamma Ray</th>\n",
       "      <th>Porosidad Neutrón</th>\n",
       "      <th>Resistividad Profunda</th>\n",
       "      <th>Resistividad Media</th>\n",
       "    </tr>\n",
       "  </thead>\n",
       "  <tbody>\n",
       "    <tr>\n",
       "      <th>0</th>\n",
       "      <td>3615.4340</td>\n",
       "      <td>2.3429</td>\n",
       "      <td>54.8754</td>\n",
       "      <td>44.5742</td>\n",
       "      <td>0.8941</td>\n",
       "      <td>0.8359</td>\n",
       "    </tr>\n",
       "    <tr>\n",
       "      <th>1</th>\n",
       "      <td>3615.5864</td>\n",
       "      <td>2.3528</td>\n",
       "      <td>53.5158</td>\n",
       "      <td>62.1103</td>\n",
       "      <td>0.7367</td>\n",
       "      <td>0.8028</td>\n",
       "    </tr>\n",
       "    <tr>\n",
       "      <th>2</th>\n",
       "      <td>3615.7388</td>\n",
       "      <td>2.3170</td>\n",
       "      <td>48.9803</td>\n",
       "      <td>71.9087</td>\n",
       "      <td>0.6423</td>\n",
       "      <td>0.7958</td>\n",
       "    </tr>\n",
       "    <tr>\n",
       "      <th>3</th>\n",
       "      <td>3615.8912</td>\n",
       "      <td>2.2585</td>\n",
       "      <td>36.6762</td>\n",
       "      <td>44.8988</td>\n",
       "      <td>0.6571</td>\n",
       "      <td>0.7929</td>\n",
       "    </tr>\n",
       "    <tr>\n",
       "      <th>4</th>\n",
       "      <td>3616.0436</td>\n",
       "      <td>2.2108</td>\n",
       "      <td>40.4632</td>\n",
       "      <td>49.5744</td>\n",
       "      <td>0.7442</td>\n",
       "      <td>0.7940</td>\n",
       "    </tr>\n",
       "    <tr>\n",
       "      <th>...</th>\n",
       "      <td>...</td>\n",
       "      <td>...</td>\n",
       "      <td>...</td>\n",
       "      <td>...</td>\n",
       "      <td>...</td>\n",
       "      <td>...</td>\n",
       "    </tr>\n",
       "    <tr>\n",
       "      <th>6696</th>\n",
       "      <td>4635.9044</td>\n",
       "      <td>NaN</td>\n",
       "      <td>NaN</td>\n",
       "      <td>NaN</td>\n",
       "      <td>0.7729</td>\n",
       "      <td>0.5978</td>\n",
       "    </tr>\n",
       "    <tr>\n",
       "      <th>6697</th>\n",
       "      <td>4636.0568</td>\n",
       "      <td>NaN</td>\n",
       "      <td>NaN</td>\n",
       "      <td>NaN</td>\n",
       "      <td>0.8369</td>\n",
       "      <td>0.6257</td>\n",
       "    </tr>\n",
       "    <tr>\n",
       "      <th>6698</th>\n",
       "      <td>4636.2092</td>\n",
       "      <td>NaN</td>\n",
       "      <td>NaN</td>\n",
       "      <td>NaN</td>\n",
       "      <td>0.8741</td>\n",
       "      <td>0.6888</td>\n",
       "    </tr>\n",
       "    <tr>\n",
       "      <th>6699</th>\n",
       "      <td>4636.3616</td>\n",
       "      <td>NaN</td>\n",
       "      <td>NaN</td>\n",
       "      <td>NaN</td>\n",
       "      <td>0.9002</td>\n",
       "      <td>0.8902</td>\n",
       "    </tr>\n",
       "    <tr>\n",
       "      <th>6700</th>\n",
       "      <td>4636.5140</td>\n",
       "      <td>NaN</td>\n",
       "      <td>NaN</td>\n",
       "      <td>NaN</td>\n",
       "      <td>0.9133</td>\n",
       "      <td>1.0363</td>\n",
       "    </tr>\n",
       "  </tbody>\n",
       "</table>\n",
       "<p>6701 rows × 6 columns</p>\n",
       "</div>"
      ],
      "text/plain": [
       "      Profundidad  Densidad Aparente  Gamma Ray  Porosidad Neutrón  \\\n",
       "0       3615.4340             2.3429    54.8754            44.5742   \n",
       "1       3615.5864             2.3528    53.5158            62.1103   \n",
       "2       3615.7388             2.3170    48.9803            71.9087   \n",
       "3       3615.8912             2.2585    36.6762            44.8988   \n",
       "4       3616.0436             2.2108    40.4632            49.5744   \n",
       "...           ...                ...        ...                ...   \n",
       "6696    4635.9044                NaN        NaN                NaN   \n",
       "6697    4636.0568                NaN        NaN                NaN   \n",
       "6698    4636.2092                NaN        NaN                NaN   \n",
       "6699    4636.3616                NaN        NaN                NaN   \n",
       "6700    4636.5140                NaN        NaN                NaN   \n",
       "\n",
       "      Resistividad Profunda  Resistividad Media  \n",
       "0                    0.8941              0.8359  \n",
       "1                    0.7367              0.8028  \n",
       "2                    0.6423              0.7958  \n",
       "3                    0.6571              0.7929  \n",
       "4                    0.7442              0.7940  \n",
       "...                     ...                 ...  \n",
       "6696                 0.7729              0.5978  \n",
       "6697                 0.8369              0.6257  \n",
       "6698                 0.8741              0.6888  \n",
       "6699                 0.9002              0.8902  \n",
       "6700                 0.9133              1.0363  \n",
       "\n",
       "[6701 rows x 6 columns]"
      ]
     },
     "execution_count": 105,
     "metadata": {},
     "output_type": "execute_result"
    }
   ],
   "source": [
    "import pandas as pd\n",
    "df=pd.DataFrame({\n",
    "    \"nombres\":[\"julian\",\"jhon\",\"joaquin\",\"lis\",\"martin\",\"jesus\"],\n",
    "    \"edades\":[12,34,89,90,100,120],\n",
    "    \"profesiones\":[\"arquitecto\",\"ingenierio\",\"medico\",\"soldador\",\"mecanico\",\"doctor\"]\n",
    "})\n",
    "\n",
    "df[\"edades\"].max()\n",
    "df[\"edades\"].describe()\n",
    "df\n",
    "\n",
    "registroPozos=pd.read_csv(\"./files/registro_pozos.csv\")\n",
    "# registroPozos.head(2)\n",
    "# registroPozos.tail(10)\n",
    "# registroPozos.info()\n",
    "prof_den=registroPozos[[\"Gamma Ray\",\"Profundidad\"]]\n",
    "prof_den[\"Gamma Ray\"]>200\n",
    "prof_den[prof_den[\"Gamma Ray\"]>200].shape\n",
    "prof_den[(prof_den[\"Gamma Ray\"]>200) | (prof_den[\"Gamma Ray\"]>100)]\n",
    "registroPozos[registroPozos[\"Gamma Ray\"]>200]\n",
    "registroPozos.iloc[0:3,4:6]\n",
    "registroPozos\n",
    "\n",
    "\n",
    "\n",
    "\n",
    "\n",
    "\n",
    "\n"
   ]
  },
  {
   "cell_type": "code",
   "execution_count": null,
   "metadata": {},
   "outputs": [],
   "source": [
    "class EstimacionDeRecursos:\n",
    "    def __init__(self,nombre, ubicacion, commodities, ley):\n",
    "        self.nombre=nombre\n",
    "        self.ubicacion=ubicacion\n",
    "        self.comodities=commodities\n",
    "        self.ley=ley\n",
    "    def recurso(self,tn):\n",
    "        recurso=tn*self.ley\n",
    "        return recurso\n",
    "\n",
    "depositoMarcona=EstimacionDeRecursos(\"Marcona\",[12.3445,123.2334],[\"cobre\",\"oro\",\"plomo\"],1.2)\n",
    "marconaRecurso=depositoMarcona.recurso(1000)\n",
    "print(f\"En {depositoMarcona.nombre} ubicado en {depositoMarcona.ubicacion} hay un total de {marconaRecurso} toneladas de cobre \")        "
   ]
  },
  {
   "cell_type": "code",
   "execution_count": null,
   "metadata": {},
   "outputs": [],
   "source": [
    "vetas_densidad={\"anita\":12,\"lis\":23,\"marcona\":13}\n",
    "volumen={\"anita\":120,\"lis\":1300,\"marcona\":1400}\n",
    "\n",
    "tonelaje={nombre:vetas_densidad[nombre]*valor for nombre,valor in volumen.items()}\n",
    "print(tonelaje)"
   ]
  }
 ],
 "metadata": {
  "kernelspec": {
   "display_name": "Python 3",
   "language": "python",
   "name": "python3"
  },
  "language_info": {
   "codemirror_mode": {
    "name": "ipython",
    "version": 3
   },
   "file_extension": ".py",
   "mimetype": "text/x-python",
   "name": "python",
   "nbconvert_exporter": "python",
   "pygments_lexer": "ipython3",
   "version": "3.11.5"
  },
  "orig_nbformat": 4
 },
 "nbformat": 4,
 "nbformat_minor": 2
}
