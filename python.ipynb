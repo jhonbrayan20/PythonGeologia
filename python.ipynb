{
 "cells": [
  {
   "cell_type": "code",
   "execution_count": 1,
   "metadata": {},
   "outputs": [
    {
     "name": "stdout",
     "output_type": "stream",
     "text": [
      "Hola mundo\n"
     ]
    }
   ],
   "source": [
    "print(\"Hola mundo\")"
   ]
  },
  {
   "cell_type": "code",
   "execution_count": 31,
   "metadata": {},
   "outputs": [
    {
     "data": {
      "text/plain": [
       "1000000"
      ]
     },
     "execution_count": 31,
     "metadata": {},
     "output_type": "execute_result"
    }
   ],
   "source": [
    "1000*1000"
   ]
  },
  {
   "cell_type": "code",
   "execution_count": 34,
   "metadata": {},
   "outputs": [
    {
     "name": "stdout",
     "output_type": "stream",
     "text": [
      "por favor responda de manera adecuada\n"
     ]
    }
   ],
   "source": [
    "consulta=input(str(\"tiene usted 18 años?(si/no):\")).strip().lower()\n",
    "if consulta==\"si\":\n",
    "    print(\"usted si puede beber bebidas alcoholicas\")\n",
    "\n",
    "elif consulta==\"no\":\n",
    "    print(\"usted es menor de edad no puede beber bebidas alcoholicas.gracias\")\n",
    "else:\n",
    "    print(\"por favor responda de manera adecuada\");\n",
    "\n",
    "\n"
   ]
  },
  {
   "cell_type": "code",
   "execution_count": 52,
   "metadata": {},
   "outputs": [
    {
     "name": "stdout",
     "output_type": "stream",
     "text": [
      "puede ser otro mineral, en estos momentos estamos en momento de desarrollo.gracias\n"
     ]
    }
   ],
   "source": [
    "# identificacion de minerales \n",
    "dureza=int(input((\"por favor ingrese su dureza: \")))\n",
    "color=str(input((\"por favor ingrese su color: \")))\n",
    "if (dureza==7) and (color==\"transparente\"):\n",
    "    print(\"su mineral es posiblemente Cuarzo\")\n",
    "elif (dureza==3) and ((color==\"blanco\")or(color==\"verde\")):\n",
    "    print (\"su mineral es posiblemente en general parte de calcita\")\n",
    "else:\n",
    "    print(\"puede ser otro mineral, en estos momentos estamos en momento de desarrollo.gracias\")\n"
   ]
  },
  {
   "cell_type": "code",
   "execution_count": 63,
   "metadata": {},
   "outputs": [
    {
     "name": "stdout",
     "output_type": "stream",
     "text": [
      "['muscovita', 'cuarzo', 'calcita', 'magnetita', 'fluorita']\n"
     ]
    }
   ],
   "source": [
    "# arrays \n",
    "\n",
    "minerales=[\"muscovita\",\"cuarzo\",\"calcita\",\"magnetita\"]\n",
    "agregarMineral=str(input(\"por favor introdusca su mineral en la lista seguidos de comas: \"))\n",
    "def addMineral(agregarMineral):\n",
    " minerales.append([agregarMineral])\n",
    " return minerales\n",
    "print(addMineral(agregarMineral))\n"
   ]
  },
  {
   "cell_type": "code",
   "execution_count": 80,
   "metadata": {},
   "outputs": [
    {
     "name": "stdout",
     "output_type": "stream",
     "text": [
      "{'clorita', 'hematita', 'cuarzo'}\n",
      "Juan 23\n"
     ]
    }
   ],
   "source": [
    "#conjuntos\n",
    "minerales=set([\"cuarzo\",\"cuarzo\",\"clorita\",\"hematita\",\"hematita\"])\n",
    "print(minerales)\n",
    "# dicionarios\n",
    "usuarios={\n",
    "    \"nombre\":\"Juan\",\n",
    "    \"edad\":23,\n",
    "}\n",
    "print(usuarios[\"nombre\"],usuarios[\"edad\"])\n",
    "\n"
   ]
  },
  {
   "cell_type": "code",
   "execution_count": 100,
   "metadata": {},
   "outputs": [
    {
     "name": "stdout",
     "output_type": "stream",
     "text": [
      "2\n",
      "4\n",
      "6\n",
      "8\n"
     ]
    }
   ],
   "source": [
    "#numeros pares del 1 al 10\n",
    "for e in range(1,10):\n",
    "    if(e%2==0):\n",
    "        print(e)\n",
    "\n",
    "    "
   ]
  },
  {
   "cell_type": "code",
   "execution_count": 111,
   "metadata": {},
   "outputs": [
    {
     "name": "stdout",
     "output_type": "stream",
     "text": [
      "1:granito\n",
      "2:monzonita\n",
      "3:diorita\n"
     ]
    }
   ],
   "source": [
    "# gradiente geotermico\n",
    "muestras=[\"granito\",\"monzonita\",\"diorita\"]\n",
    "for i,muestra in enumerate(muestras):\n",
    "    i=i+1\n",
    "    print(f\"{i}:{muestra}\")\n",
    "\n",
    "\n"
   ]
  },
  {
   "cell_type": "code",
   "execution_count": 105,
   "metadata": {},
   "outputs": [
    {
     "data": {
      "text/html": [
       "<div>\n",
       "<style scoped>\n",
       "    .dataframe tbody tr th:only-of-type {\n",
       "        vertical-align: middle;\n",
       "    }\n",
       "\n",
       "    .dataframe tbody tr th {\n",
       "        vertical-align: top;\n",
       "    }\n",
       "\n",
       "    .dataframe thead th {\n",
       "        text-align: right;\n",
       "    }\n",
       "</style>\n",
       "<table border=\"1\" class=\"dataframe\">\n",
       "  <thead>\n",
       "    <tr style=\"text-align: right;\">\n",
       "      <th></th>\n",
       "      <th>Profundidad</th>\n",
       "      <th>Densidad Aparente</th>\n",
       "      <th>Gamma Ray</th>\n",
       "      <th>Porosidad Neutrón</th>\n",
       "      <th>Resistividad Profunda</th>\n",
       "      <th>Resistividad Media</th>\n",
       "    </tr>\n",
       "  </thead>\n",
       "  <tbody>\n",
       "    <tr>\n",
       "      <th>0</th>\n",
       "      <td>3615.4340</td>\n",
       "      <td>2.3429</td>\n",
       "      <td>54.8754</td>\n",
       "      <td>44.5742</td>\n",
       "      <td>0.8941</td>\n",
       "      <td>0.8359</td>\n",
       "    </tr>\n",
       "    <tr>\n",
       "      <th>1</th>\n",
       "      <td>3615.5864</td>\n",
       "      <td>2.3528</td>\n",
       "      <td>53.5158</td>\n",
       "      <td>62.1103</td>\n",
       "      <td>0.7367</td>\n",
       "      <td>0.8028</td>\n",
       "    </tr>\n",
       "    <tr>\n",
       "      <th>2</th>\n",
       "      <td>3615.7388</td>\n",
       "      <td>2.3170</td>\n",
       "      <td>48.9803</td>\n",
       "      <td>71.9087</td>\n",
       "      <td>0.6423</td>\n",
       "      <td>0.7958</td>\n",
       "    </tr>\n",
       "    <tr>\n",
       "      <th>3</th>\n",
       "      <td>3615.8912</td>\n",
       "      <td>2.2585</td>\n",
       "      <td>36.6762</td>\n",
       "      <td>44.8988</td>\n",
       "      <td>0.6571</td>\n",
       "      <td>0.7929</td>\n",
       "    </tr>\n",
       "    <tr>\n",
       "      <th>4</th>\n",
       "      <td>3616.0436</td>\n",
       "      <td>2.2108</td>\n",
       "      <td>40.4632</td>\n",
       "      <td>49.5744</td>\n",
       "      <td>0.7442</td>\n",
       "      <td>0.7940</td>\n",
       "    </tr>\n",
       "    <tr>\n",
       "      <th>...</th>\n",
       "      <td>...</td>\n",
       "      <td>...</td>\n",
       "      <td>...</td>\n",
       "      <td>...</td>\n",
       "      <td>...</td>\n",
       "      <td>...</td>\n",
       "    </tr>\n",
       "    <tr>\n",
       "      <th>6696</th>\n",
       "      <td>4635.9044</td>\n",
       "      <td>NaN</td>\n",
       "      <td>NaN</td>\n",
       "      <td>NaN</td>\n",
       "      <td>0.7729</td>\n",
       "      <td>0.5978</td>\n",
       "    </tr>\n",
       "    <tr>\n",
       "      <th>6697</th>\n",
       "      <td>4636.0568</td>\n",
       "      <td>NaN</td>\n",
       "      <td>NaN</td>\n",
       "      <td>NaN</td>\n",
       "      <td>0.8369</td>\n",
       "      <td>0.6257</td>\n",
       "    </tr>\n",
       "    <tr>\n",
       "      <th>6698</th>\n",
       "      <td>4636.2092</td>\n",
       "      <td>NaN</td>\n",
       "      <td>NaN</td>\n",
       "      <td>NaN</td>\n",
       "      <td>0.8741</td>\n",
       "      <td>0.6888</td>\n",
       "    </tr>\n",
       "    <tr>\n",
       "      <th>6699</th>\n",
       "      <td>4636.3616</td>\n",
       "      <td>NaN</td>\n",
       "      <td>NaN</td>\n",
       "      <td>NaN</td>\n",
       "      <td>0.9002</td>\n",
       "      <td>0.8902</td>\n",
       "    </tr>\n",
       "    <tr>\n",
       "      <th>6700</th>\n",
       "      <td>4636.5140</td>\n",
       "      <td>NaN</td>\n",
       "      <td>NaN</td>\n",
       "      <td>NaN</td>\n",
       "      <td>0.9133</td>\n",
       "      <td>1.0363</td>\n",
       "    </tr>\n",
       "  </tbody>\n",
       "</table>\n",
       "<p>6701 rows × 6 columns</p>\n",
       "</div>"
      ],
      "text/plain": [
       "      Profundidad  Densidad Aparente  Gamma Ray  Porosidad Neutrón  \\\n",
       "0       3615.4340             2.3429    54.8754            44.5742   \n",
       "1       3615.5864             2.3528    53.5158            62.1103   \n",
       "2       3615.7388             2.3170    48.9803            71.9087   \n",
       "3       3615.8912             2.2585    36.6762            44.8988   \n",
       "4       3616.0436             2.2108    40.4632            49.5744   \n",
       "...           ...                ...        ...                ...   \n",
       "6696    4635.9044                NaN        NaN                NaN   \n",
       "6697    4636.0568                NaN        NaN                NaN   \n",
       "6698    4636.2092                NaN        NaN                NaN   \n",
       "6699    4636.3616                NaN        NaN                NaN   \n",
       "6700    4636.5140                NaN        NaN                NaN   \n",
       "\n",
       "      Resistividad Profunda  Resistividad Media  \n",
       "0                    0.8941              0.8359  \n",
       "1                    0.7367              0.8028  \n",
       "2                    0.6423              0.7958  \n",
       "3                    0.6571              0.7929  \n",
       "4                    0.7442              0.7940  \n",
       "...                     ...                 ...  \n",
       "6696                 0.7729              0.5978  \n",
       "6697                 0.8369              0.6257  \n",
       "6698                 0.8741              0.6888  \n",
       "6699                 0.9002              0.8902  \n",
       "6700                 0.9133              1.0363  \n",
       "\n",
       "[6701 rows x 6 columns]"
      ]
     },
     "execution_count": 105,
     "metadata": {},
     "output_type": "execute_result"
    }
   ],
   "source": [
    "import pandas as pd\n",
    "df=pd.DataFrame({\n",
    "    \"nombres\":[\"julian\",\"jhon\",\"joaquin\",\"lis\",\"martin\",\"jesus\"],\n",
    "    \"edades\":[12,34,89,90,100,120],\n",
    "    \"profesiones\":[\"arquitecto\",\"ingenierio\",\"medico\",\"soldador\",\"mecanico\",\"doctor\"]\n",
    "})\n",
    "\n",
    "df[\"edades\"].max()\n",
    "df[\"edades\"].describe()\n",
    "df\n",
    "\n",
    "registroPozos=pd.read_csv(\"./files/registro_pozos.csv\")\n",
    "# registroPozos.head(2)\n",
    "# registroPozos.tail(10)\n",
    "# registroPozos.info()\n",
    "prof_den=registroPozos[[\"Gamma Ray\",\"Profundidad\"]]\n",
    "prof_den[\"Gamma Ray\"]>200\n",
    "prof_den[prof_den[\"Gamma Ray\"]>200].shape\n",
    "prof_den[(prof_den[\"Gamma Ray\"]>200) | (prof_den[\"Gamma Ray\"]>100)]\n",
    "registroPozos[registroPozos[\"Gamma Ray\"]>200]\n",
    "registroPozos.iloc[0:3,4:6]\n",
    "registroPozos\n",
    "\n",
    "\n",
    "\n",
    "\n",
    "\n",
    "\n",
    "\n"
   ]
  },
  {
   "cell_type": "code",
   "execution_count": null,
   "metadata": {},
   "outputs": [],
   "source": [
    "class EstimacionDeRecursos:\n",
    "    def __init__(self,nombre, ubicacion, commodities, ley):\n",
    "        self.nombre=nombre\n",
    "        self.ubicacion=ubicacion\n",
    "        self.comodities=commodities\n",
    "        self.ley=ley\n",
    "    def recurso(self,tn):\n",
    "        recurso=tn*self.ley\n",
    "        return recurso\n",
    "\n",
    "depositoMarcona=EstimacionDeRecursos(\"Marcona\",[12.3445,123.2334],[\"cobre\",\"oro\",\"plomo\"],1.2)\n",
    "marconaRecurso=depositoMarcona.recurso(1000)\n",
    "print(f\"En {depositoMarcona.nombre} ubicado en {depositoMarcona.ubicacion} hay un total de {marconaRecurso} toneladas de cobre \")        "
   ]
  },
  {
   "cell_type": "code",
   "execution_count": 58,
   "metadata": {},
   "outputs": [
    {
     "data": {
      "text/plain": [
       "array([[0, 1],\n",
       "       [2, 3],\n",
       "       [4, 5],\n",
       "       [6, 7],\n",
       "       [8, 9]])"
      ]
     },
     "execution_count": 58,
     "metadata": {},
     "output_type": "execute_result"
    }
   ],
   "source": [
    "import numpy as np\n",
    "\n",
    "x=np.array([1,2,4,5,6,6])\n",
    "y=np.array([12,23,34,54])\n",
    "z=np.concatenate((x,y))\n",
    "suma_z=np.sum(z)\n",
    "\n",
    "matriz=np.array([[[1,2,3],[2,3,5]],[[45,23,34],[12,34,35]]])\n",
    "matriz\n",
    "\n",
    "# Definir las dimensiones de la matriz\n",
    "num_ubicaciones_x = 3\n",
    "num_ubicaciones_y = 3\n",
    "num_profundidades_z = 3\n",
    "\n",
    "# Crear una matriz 3D de ceros para representar los datos del suelo o datos geologicos que nosotros queramos \"vuela alto tu imaginacion\"\n",
    "matriz_3d = np.ones((num_ubicaciones_x, num_ubicaciones_y, num_profundidades_z))\n",
    "matriz_3d.shape\n",
    "matriz_3d\n",
    "\n",
    "# remodelacion de matrizes\n",
    "m=np.arange(10)\n",
    "m\n",
    "n=m.reshape(5,2)\n",
    "n\n",
    "# recuerda que no necesitas memorizar todos lo metodos , ahora solo ponte a trabajr en un proyecto , consulta la  dicumentacion y listo\n"
   ]
  },
  {
   "cell_type": "code",
   "execution_count": 89,
   "metadata": {},
   "outputs": [
    {
     "data": {
      "image/png": "[encoded data removed]",
      "text/plain": [
       "<Figure size 500x500 with 1 Axes>"
      ]
     },
     "metadata": {},
     "output_type": "display_data"
    }
   ],
   "source": [
    "import numpy as np\n",
    "import matplotlib.pyplot as plt\n",
    "\n",
    "alumno=np.array([\"Jhon Huanacuni\",\"Luis Gonzales\",\"Carlos Chuiman\"])\n",
    "\n",
    "edad=np.array([26,23,34])\n",
    "\n",
    "fig,ax=plt.subplots(figsize=(5,5))\n",
    "ax=plt.bar(alumno,edad)\n",
    "plt.show()\n",
    "fig.savefig(\"finura.png\" , dpi=144)"
   ]
  },
  {
   "cell_type": "code",
   "execution_count": null,
   "metadata": {},
   "outputs": [],
   "source": [
    "import numpy as np\n",
    "import matplotlib.pyplot as plt\n",
    "x=np.arange(6)\n",
    "y=x**2\n",
    "z=x**3\n",
    "\n",
    "figura, ax=plt.subplots(figsize=(4,4))\n",
    "\n",
    "grafico_1=ax.plot(x,z,label=\"${x^3}$\",color=\"red\")\n",
    "grafico_2=ax.plot(x,y,label=\"${x^2}$\",color=\"blue\")\n",
    "ax.legend(fontsize=9)\n",
    "plt.show()\n"
   ]
  },
  {
   "cell_type": "code",
   "execution_count": null,
   "metadata": {},
   "outputs": [],
   "source": [
    "import numpy as np\n",
    "import matplotlib.pyplot as plt\n",
    "\n",
    "x = [12,13,14,15,15,89,90]\n",
    "\n",
    "y = [12,14,15,16,34,45,56]\n",
    "\n",
    "\n",
    "# Figura principal\n",
    "fig, ax = plt.subplots(figsize=(8, 8))\n",
    "\n",
    "# Diagrama de dispersión\n",
    "ax.scatter(x, y)\n",
    "\n",
    "plt.show()\n",
    "\n"
   ]
  },
  {
   "cell_type": "code",
   "execution_count": 31,
   "metadata": {},
   "outputs": [
    {
     "data": {
      "application/vnd.jupyter.widget-view+json": {
       "model_id": "4c8551e4a341450f9922ef3231954923",
       "version_major": 2,
       "version_minor": 0
      },
      "text/plain": [
       "HBox(children=(VBox(children=(VBox(children=(SelectionRangeSlider(description='SiO2', index=(0, 1), layout=Lay…"
      ]
     },
     "metadata": {},
     "output_type": "display_data"
    }
   ],
   "source": [
    "import ipywidgets as widgets\n",
    "import pandas as pd\n",
    "import numpy as np\n",
    "\n",
    "# slider=widgets.FloatSlider(min=\"1\",max=\"8\",descripcion=\"Numero\",step=1)\n",
    "\n",
    "# def cubo(n):\n",
    "#     print(n**3)\n",
    "\n",
    "# sliderCubo=widgets.interactive_output(cubo,{\"n\":slider})\n",
    "# sliderCubo.clear_output(wait=True)\n",
    "# display(slider,sliderCubo)\n",
    "\n",
    "# def tree(x,y,z):\n",
    "#     return(x,y,z)\n",
    "\n",
    "# slidertree=widgets.interact(tree,x=(1,10,2),y=True,z=[\"granito\",\"dacita\",\"traquita\"])\n",
    "\n",
    "\n",
    "dataframe = pd.read_csv(\"files/rocas.csv\")\n",
    "\n",
    "# Opción para que el DataFrame redondee el formato de visualización de los datos numéricos \n",
    "\n",
    "pd.set_option(\"display.float_format\", lambda x: f\"{x:.4f}\")\n",
    "\n",
    "# Objeto que representa la tabla de información\n",
    "class Data:\n",
    "    def __init__(self, dataframe: pd.DataFrame):\n",
    "        self.dataframe = dataframe\n",
    "        # La información debe ser limpiada antes de usar la función\n",
    "        num_cols = []\n",
    "        cat_cols = []\n",
    "        for col in dataframe.columns:\n",
    "            if dataframe[col].dtype in [int, float]:\n",
    "                num_cols.append(col)\n",
    "            else:\n",
    "                cat_cols.append(col)\n",
    "        self.num_cols = num_cols\n",
    "        self.cat_cols = cat_cols\n",
    "\n",
    "# Objeto que representa el widget deslizador de valores en una columna    \n",
    "class ColumnSlider:\n",
    "    def __init__(self, dataframe, name):\n",
    "        self.name = name\n",
    "        self.col_min = int(dataframe[name].min())\n",
    "        self.col_max = int(dataframe[name].max())\n",
    "        self.widget = widgets.SelectionRangeSlider(options=np.arange(self.col_min, self.col_max + 1, 1),\n",
    "                                                   index=(0, 1),\n",
    "                                                   value=(self.col_min, self.col_max),\n",
    "                                                   description=f\"{self.name}\",\n",
    "                                                   layout={'width': '400px'})\n",
    "\n",
    "# Objeto que representa la interfaz en la cual visualizaremos la tabla y los deslizadores        \n",
    "class DashBoard:\n",
    "    def __init__(self, dataframe):\n",
    "        self.data = Data(dataframe)\n",
    "        self.df = self.data.dataframe\n",
    "        self.sliders = [ColumnSlider(dataframe, name) for name in self.data.num_cols]\n",
    "        \n",
    "        def update_dataframe(**kwargs):\n",
    "            df = self.data.dataframe\n",
    "            for col, slider in kwargs.items():\n",
    "                start = slider[0]\n",
    "                end = slider[1]\n",
    "                df = df[(df[col] >= start) & (df[col] <= end)]\n",
    "            self.df = df\n",
    "            display(df)\n",
    "        \n",
    "        dict_sliders = {f\"{slider.widget.description}\": slider.widget for slider in self.sliders}\n",
    "        self.output = widgets.interactive_output(update_dataframe, dict_sliders)\n",
    "        self.output.clear_output(wait = True)\n",
    "        \n",
    "        file_widget = widgets.Text(placeholder=\"Nombre del archivo\", continuous_update=False)\n",
    "        save_button = widgets.Button(description=\"Guardar archivo csv\", button_style=\"\", tooltip=\"Guardar archivo\",\n",
    "                                     icon=\"floppy-o\", style={\"button_color\": \"green\"})\n",
    "        \n",
    "        def save_click(b):\n",
    "            filename = file_widget.value\n",
    "            if filename in [\"rocas\", \"\", \"Nombre no válido\"]:\n",
    "                file_widget.value = \"Nombre no válido\"\n",
    "            else:\n",
    "                with self.output:\n",
    "                    self.df.to_csv(f\"{filename}.csv\", index=False)\n",
    "                \n",
    "        save_button.on_click(save_click)\n",
    "        file_container = widgets.VBox([file_widget, save_button])\n",
    "        slider_container = widgets.VBox([slider.widget for slider in self.sliders])\n",
    "        left = widgets.VBox([slider_container, file_container])\n",
    "        right = widgets.VBox([self.output])\n",
    "        display(widgets.HBox([left, right]))\n",
    "\n",
    "DashBoard(dataframe);\n",
    "\n",
    "\n"
   ]
  },
  {
   "cell_type": "code",
   "execution_count": 37,
   "metadata": {},
   "outputs": [
    {
     "name": "stdout",
     "output_type": "stream",
     "text": [
      "su muestra es una roca mafica, posiblemente basalto o gabro\n"
     ]
    }
   ],
   "source": [
    "# Clasificacion de rocas igneas\n",
    "porcentajeSilice=int(input(\"por favor ingrese el porcentaje de silice de su roca\"))\n",
    "def ClasificacionDeRoca(porcentaje):\n",
    "    if(0<porcentaje<45):\n",
    "        print(\"su muestra es una roca ultramafica, posiblemente una dunita o peridotita\")\n",
    "    elif(porcentaje>=45 and porcentaje<=52):\n",
    "        print(\"su muestra es una roca mafica, posiblemente basalto o gabro\")\n",
    "    elif(porcentaje>=52 and porcentaje<=66):\n",
    "        print(\"su muestra es una roca intermedia, posiblemente una andesita o diorita\")\n",
    "    elif(porcentaje>66):\n",
    "        print(\"su muestra es una roca felsica\")\n",
    "    else:\n",
    "        print(\"por favor ingrese datos validos\")\n",
    "\n",
    "ClasificacionDeRoca(porcentajeSilice)"
   ]
  },
  {
   "cell_type": "code",
   "execution_count": 49,
   "metadata": {},
   "outputs": [
    {
     "name": "stdout",
     "output_type": "stream",
     "text": [
      "abundancia de cuarzo en la muestra:0.48\n",
      "abundancia de plagioclasas en la muestra:0.27\n",
      "abundancia de feldespato en la muestra:0.11\n",
      "abundancia de biotita en la muestra:0.08\n",
      "abundancia de pirita en la muestra:0.06\n"
     ]
    }
   ],
   "source": [
    "# Mineralogia de una muestra de roca\n",
    "\n",
    "mineralogiaDeMuestra={\n",
    "    \"cuarzo\":0.48,\n",
    "    \"plagioclasas\":0.27,\n",
    "    \"feldespato\":0.11,\n",
    "    \"biotita\":0.08,\n",
    "    \"pirita\":0.06\n",
    "}\n",
    "for mineral,porcentaje in mineralogiaDeMuestra.items():\n",
    "    print(f\"abundancia de {mineral} en la muestra:{porcentaje}\")\n",
    "\n"
   ]
  },
  {
   "cell_type": "code",
   "execution_count": 75,
   "metadata": {},
   "outputs": [
    {
     "data": {
      "text/plain": [
       "{'cuarzo': 0.6212121212121212,\n",
       " 'feldespatos': 0.0,\n",
       " 'plagioclasas': 0.37878787878787884}"
      ]
     },
     "execution_count": 75,
     "metadata": {},
     "output_type": "execute_result"
    }
   ],
   "source": [
    "# Normalizacion de porcentajes para clasificacion petrografica\n",
    "def streckeysen(roca):\n",
    "    normal={}\n",
    "    sumaTotal=0\n",
    "    sumaParcial=0\n",
    "    for mineral,cantidad in roca.items():\n",
    "        sumaTotal+=cantidad\n",
    "        if(mineral==\"cuarzo\" or mineral==\"feldespatos\"or mineral==\"plagioclasas\"):\n",
    "            sumaParcial+=cantidad\n",
    "\n",
    "    normal[\"cuarzo\"]=roca[\"cuarzo\"]*sumaTotal/sumaParcial\n",
    "    normal[\"feldespatos\"]=roca[\"feldespatos\"]*sumaTotal/sumaParcial\n",
    "    normal[\"plagioclasas\"]=roca[\"plagioclasas\"]*sumaTotal/sumaParcial\n",
    "\n",
    "    return normal\n",
    "\n",
    "streckeysen({\n",
    "    \"cuarzo\":0.41,\n",
    "    \"feldespatos\":0,\n",
    "    \"plagioclasas\":0.25,\n",
    "    \"anfiboles\":0.17,\n",
    "    \"biotita\":0.12,\n",
    "    \"pirita\":0.05\n",
    "})\n",
    " "
   ]
  },
  {
   "cell_type": "code",
   "execution_count": 61,
   "metadata": {},
   "outputs": [
    {
     "data": {
      "image/png": "[encoded data removed]",
      "text/plain": [
       "<Figure size 500x400 with 1 Axes>"
      ]
     },
     "metadata": {},
     "output_type": "display_data"
    }
   ],
   "source": [
    "# Modelo de gradiente geotermico terrestre\n",
    "import numpy as np\n",
    "import matplotlib.pyplot as plt \n",
    "\n",
    "#Definimos nuestra funcion para calcular la temperatura con respecto a la profundidad\n",
    "def temperatura(profundidad):\n",
    "    if(0<profundidad<=100):\n",
    "        temp=profundidad*15+25\n",
    "        return temp\n",
    "    if(100<profundidad<=6360):\n",
    "        temp=(-6*10**-5)*(profundidad**2)+(1.05*profundidad+1395.6)\n",
    "        return temp\n",
    "    if(profundidad<0 or profundidad>6360):\n",
    "        return\"Lo sentimos, valor de profundidad es incorrecto\"\n",
    "\n",
    "#proponemos un rango de profundidades para visuliazar en un grafico\n",
    "rangoProfundidad=np.arange(50,500,9)\n",
    "# definimos un funcion para recorrer el rango de profundidades para aplicar la funcion temperatura  y retornar sus respectivas temperaturas\n"
   ]
  },
  {
   "cell_type": "code",
   "execution_count": null,
   "metadata": {},
   "outputs": [],
   "source": [
    "import numpy as np\n",
    "import pandas as pd\n",
    "\n",
    "recaude=pd.DataFrame({\n",
    "    \"mes\":[\"enero\",\"febrero\",\"marzo\",\"abril\",\"mayo\",\"junio\"],\n",
    "    \"pesoOnzasAu\":[90,126,46,90,200,100]})\n",
    "\n",
    "class GanaciaNeta:\n",
    "    def __init__(self,recaudeDataFrame):\n",
    "        self.recaudeDataFrame=recaudeDataFrame\n",
    "    def ganancia(self,precio_onza_dolares,costo_operacion_dolares):\n",
    "     totalOnzas=self.recaudeDataFrame[\"pesoOnzasAu\"].sum();ganancia=totalOnzas*precio_onza_dolares-costo_operacion_dolares\n",
    "     return print(f\"Durante el sementre, la mina produjo {totalOnzas} onzas de oro con una ganancia total de {ganancia} dolares\")\n",
    "    \n",
    "GanaciaNeta_1=GanaciaNeta(recaude)\n",
    "        \n",
    "GanaciaNeta_1.ganancia(1000,4000)\n",
    "\n"
   ]
  },
  {
   "cell_type": "code",
   "execution_count": 80,
   "metadata": {},
   "outputs": [
    {
     "name": "stdout",
     "output_type": "stream",
     "text": [
      "26.20269686186598\n"
     ]
    },
    {
     "data": {
      "text/plain": [
       "'en la roca de muestra se tiene un porosidad de 26.20 %'"
      ]
     },
     "execution_count": 80,
     "metadata": {},
     "output_type": "execute_result"
    }
   ],
   "source": [
    "# Porosidad promedio\n",
    "import numpy as np \n",
    "import pandas as pd\n",
    "\n",
    "datosLaboratorio=pd.DataFrame({\n",
    "    \"volumen de poros\":[103,121,109,94,86,106,112,151,143,188],\n",
    "    \"volumen total\":[395,451,402,377,358,398,411,586,529,713]\n",
    "})\n",
    "def porosidad(dataFrame):\n",
    "    VolumenPoros=np.array([dataFrame[\"volumen de poros\"]])\n",
    "    volumenTotal=np.array([dataFrame[\"volumen total\"]])\n",
    "    porosidad=VolumenPoros/volumenTotal*100\n",
    "    porosidadPromedio=porosidad.mean()\n",
    "    print(porosidadPromedio)\n",
    "    return f\"en la roca de muestra se tiene un porosidad de {porosidadPromedio:.2f} %\"\n",
    "\n",
    "porosidad(datosLaboratorio)\n",
    "\n",
    "\n"
   ]
  },
  {
   "cell_type": "code",
   "execution_count": 81,
   "metadata": {},
   "outputs": [
    {
     "name": "stdout",
     "output_type": "stream",
     "text": [
      "Hola mi amor como estas te extraño\n"
     ]
    }
   ],
   "source": [
    "# Buzamiento Aparente en un talud\n",
    "\n",
    "\n"
   ]
  },
  {
   "cell_type": "code",
   "execution_count": 94,
   "metadata": {},
   "outputs": [
    {
     "data": {
      "text/plain": [
       "array([[80., 30., 40., 45.]])"
      ]
     },
     "execution_count": 94,
     "metadata": {},
     "output_type": "execute_result"
    }
   ],
   "source": [
    "# Calculo de buzamiento apararente para perfiles geologicos \n",
    "# buzamiento aparente=arctan(tan(buzameinto real)*sen(angulo estructura-lineaPerfil))\n",
    "import pandas as pd\n",
    "import numpy as np\n",
    "\n",
    "datos=pd.DataFrame({\n",
    "    \"BuzamientoReal\":[80,30,40,45],\n",
    "    \"Angulo estructura-lineaPerfil\":[90,90,90,90]\n",
    "})\n",
    "\n",
    "def buzamientoAparente(dataFrame):\n",
    "    buzamientosReales=np.array([datos[\"BuzamientoReal\"]])\n",
    "    anguloEstructuraLineaPerfil=np.array([datos[\"Angulo estructura-lineaPerfil\"]])\n",
    "    buzamientoAparente=np.arctan(np.tan(np.radians(buzamientosReales))*np.sin(np. radians(anguloEstructuraLineaPerfil)))\n",
    "    return np.degrees(buzamientoAparente)\n",
    "\n",
    "buzamientoAparente(datos)\n",
    "\n"
   ]
  },
  {
   "cell_type": "code",
   "execution_count": 16,
   "metadata": {},
   "outputs": [
    {
     "data": {
      "text/plain": [
       "array([38.10511777])"
      ]
     },
     "execution_count": 16,
     "metadata": {},
     "output_type": "execute_result"
    }
   ],
   "source": [
    "# Buzamiento aparente en un talud \n",
    "# Buzamiento real =arctan(tan(buzamiento aparente)/coseno(angulo entre el azimut del estrato y azimut del talud)))\n",
    "\n",
    "import pandas as pd\n",
    "import numpy as np\n",
    "\n",
    "datos=pd.DataFrame({\n",
    "    \"buzamiento aparente\":[33],\n",
    "    \"azimut del estrato\":[150],\n",
    "    \"azimut del talud\":[180]\n",
    "})\n",
    "\n",
    "def buzamientoReal(dataframe):\n",
    "    buzamientosAparentes=np.array(dataframe[\"buzamiento aparente\"])\n",
    "    azimutDeEstratos=np.array(dataframe[\"azimut del estrato\"])\n",
    "    azimutDeTalud=np.array(dataframe[\"azimut del talud\"])\n",
    "    buzamientoReal=np.degrees(np.arctan(np.tan(np.radians(buzamientosAparentes)/np.cos(np.radians(azimutDeTalud-azimutDeEstratos)))))\n",
    "\n",
    "    return buzamientoReal\n",
    "\n",
    "buzamientoReal(datos)\n",
    "\n",
    "\n",
    "    "
   ]
  },
  {
   "cell_type": "code",
   "execution_count": 19,
   "metadata": {},
   "outputs": [
    {
     "data": {
      "text/html": [
       "<div>\n",
       "<style scoped>\n",
       "    .dataframe tbody tr th:only-of-type {\n",
       "        vertical-align: middle;\n",
       "    }\n",
       "\n",
       "    .dataframe tbody tr th {\n",
       "        vertical-align: top;\n",
       "    }\n",
       "\n",
       "    .dataframe thead th {\n",
       "        text-align: right;\n",
       "    }\n",
       "</style>\n",
       "<table border=\"1\" class=\"dataframe\">\n",
       "  <thead>\n",
       "    <tr style=\"text-align: right;\">\n",
       "      <th></th>\n",
       "      <th>Nombre</th>\n",
       "      <th>SiO2</th>\n",
       "      <th>Al2O3</th>\n",
       "      <th>FeOT</th>\n",
       "      <th>CaO</th>\n",
       "      <th>MgO</th>\n",
       "      <th>Na2O</th>\n",
       "      <th>K2O</th>\n",
       "      <th>MnO</th>\n",
       "      <th>TiO2</th>\n",
       "      <th>FeoT+MgO</th>\n",
       "    </tr>\n",
       "  </thead>\n",
       "  <tbody>\n",
       "    <tr>\n",
       "      <th>0</th>\n",
       "      <td>Peridotita</td>\n",
       "      <td>45.16</td>\n",
       "      <td>1.56</td>\n",
       "      <td>8.79</td>\n",
       "      <td>0.97</td>\n",
       "      <td>44.47</td>\n",
       "      <td>0.10</td>\n",
       "      <td>0.02</td>\n",
       "      <td>0.13</td>\n",
       "      <td>0.10</td>\n",
       "      <td>53.26</td>\n",
       "    </tr>\n",
       "    <tr>\n",
       "      <th>1</th>\n",
       "      <td>Peridotita</td>\n",
       "      <td>45.97</td>\n",
       "      <td>2.94</td>\n",
       "      <td>8.90</td>\n",
       "      <td>2.83</td>\n",
       "      <td>39.89</td>\n",
       "      <td>0.17</td>\n",
       "      <td>0.04</td>\n",
       "      <td>0.13</td>\n",
       "      <td>0.19</td>\n",
       "      <td>48.79</td>\n",
       "    </tr>\n",
       "    <tr>\n",
       "      <th>2</th>\n",
       "      <td>Peridotita</td>\n",
       "      <td>46.91</td>\n",
       "      <td>3.62</td>\n",
       "      <td>8.23</td>\n",
       "      <td>2.73</td>\n",
       "      <td>39.55</td>\n",
       "      <td>0.14</td>\n",
       "      <td>0.01</td>\n",
       "      <td>0.13</td>\n",
       "      <td>0.11</td>\n",
       "      <td>47.78</td>\n",
       "    </tr>\n",
       "    <tr>\n",
       "      <th>3</th>\n",
       "      <td>Peridotita</td>\n",
       "      <td>44.96</td>\n",
       "      <td>2.01</td>\n",
       "      <td>9.04</td>\n",
       "      <td>1.10</td>\n",
       "      <td>43.39</td>\n",
       "      <td>0.10</td>\n",
       "      <td>0.02</td>\n",
       "      <td>0.13</td>\n",
       "      <td>0.11</td>\n",
       "      <td>52.43</td>\n",
       "    </tr>\n",
       "    <tr>\n",
       "      <th>4</th>\n",
       "      <td>Peridotita</td>\n",
       "      <td>45.24</td>\n",
       "      <td>0.73</td>\n",
       "      <td>7.92</td>\n",
       "      <td>0.42</td>\n",
       "      <td>46.79</td>\n",
       "      <td>0.01</td>\n",
       "      <td>0.01</td>\n",
       "      <td>0.11</td>\n",
       "      <td>0.03</td>\n",
       "      <td>54.71</td>\n",
       "    </tr>\n",
       "  </tbody>\n",
       "</table>\n",
       "</div>"
      ],
      "text/plain": [
       "       Nombre   SiO2  Al2O3  FeOT   CaO    MgO  Na2O   K2O   MnO  TiO2  \\\n",
       "0  Peridotita  45.16   1.56  8.79  0.97  44.47  0.10  0.02  0.13  0.10   \n",
       "1  Peridotita  45.97   2.94  8.90  2.83  39.89  0.17  0.04  0.13  0.19   \n",
       "2  Peridotita  46.91   3.62  8.23  2.73  39.55  0.14  0.01  0.13  0.11   \n",
       "3  Peridotita  44.96   2.01  9.04  1.10  43.39  0.10  0.02  0.13  0.11   \n",
       "4  Peridotita  45.24   0.73  7.92  0.42  46.79  0.01  0.01  0.11  0.03   \n",
       "\n",
       "   FeoT+MgO  \n",
       "0     53.26  \n",
       "1     48.79  \n",
       "2     47.78  \n",
       "3     52.43  \n",
       "4     54.71  "
      ]
     },
     "execution_count": 19,
     "metadata": {},
     "output_type": "execute_result"
    }
   ],
   "source": [
    "# Abrir informacion con pandas \n",
    "import pandas as pd\n",
    "\n",
    "datosRocas=pd.read_csv(\"./files/rocas.csv\")\n",
    "\n",
    "# creación de columnas en pandas \n",
    "\n",
    "datosRocas[\"FeoT+MgO\"]=datosRocas[\"FeOT\"]+datosRocas[\"MgO\"]\n",
    "datosRocas.head()\n",
    "\n"
   ]
  }
 ],
 "metadata": {
  "kernelspec": {
   "display_name": "Python 3",
   "language": "python",
   "name": "python3"
  },
  "language_info": {
   "codemirror_mode": {
    "name": "ipython",
    "version": 3
   },
   "file_extension": ".py",
   "mimetype": "text/x-python",
   "name": "python",
   "nbconvert_exporter": "python",
   "pygments_lexer": "ipython3",
   "version": "3.11.5"
  },
  "orig_nbformat": 4
 },
 "nbformat": 4,
 "nbformat_minor": 2
}
